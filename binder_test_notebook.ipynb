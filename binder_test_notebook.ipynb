{
 "cells": [
  {
   "cell_type": "markdown",
   "metadata": {},
   "source": [
    "## リスト8-1 最長増加部分列問題に対する単純な解"
   ]
  },
  {
   "cell_type": "code",
   "execution_count": 1,
   "metadata": {
    "ExecuteTime": {
     "end_time": "2020-07-05T05:45:34.222209Z",
     "start_time": "2020-07-05T05:45:34.218468Z"
    }
   },
   "outputs": [],
   "source": [
    "from itertools import combinations\n",
    "\n",
    "def naive_lis(seq):\n",
    "    for length in range(len(seq), 0, -1):       # n, n-1, ... , 1\n",
    "        for sub in combinations(seq, length):   # 与えられた列の部分列\n",
    "            if list(sub) == sorted(sub):        # 増加している列かどうかを確認\n",
    "                return sub                      # そうであれば、それを返す"
   ]
  },
  {
   "cell_type": "code",
   "execution_count": 2,
   "metadata": {
    "ExecuteTime": {
     "end_time": "2020-07-05T05:46:20.939607Z",
     "start_time": "2020-07-05T05:46:20.928516Z"
    }
   },
   "outputs": [
    {
     "data": {
      "text/plain": [
       "(1, 2, 4)"
      ]
     },
     "execution_count": 2,
     "metadata": {},
     "output_type": "execute_result"
    }
   ],
   "source": [
    "seq = [3, 1, 0, 2, 4]\n",
    "naive_lis(seq)\n",
    "# (1, 2, 4)"
   ]
  },
  {
   "cell_type": "code",
   "execution_count": 37,
   "metadata": {
    "ExecuteTime": {
     "end_time": "2020-07-05T06:01:11.438314Z",
     "start_time": "2020-07-05T06:01:11.434027Z"
    }
   },
   "outputs": [
    {
     "data": {
      "text/plain": [
       "(1, 2, 3, 4, 5, 6)"
      ]
     },
     "execution_count": 37,
     "metadata": {},
     "output_type": "execute_result"
    }
   ],
   "source": [
    "naive_lis([1, 0, 7, 2, 8, 3, 4, 9, 5, 6])\n",
    "# (1, 2, 3, 4, 5, 6)"
   ]
  },
  {
   "cell_type": "markdown",
   "metadata": {},
   "source": [
    "# 8-1 DRY(Don't Repeat Yourself)の原則：繰り返しを避ける"
   ]
  },
  {
   "cell_type": "markdown",
   "metadata": {},
   "source": [
    "## リスト8-2 メモ化デコレータ"
   ]
  },
  {
   "cell_type": "code",
   "execution_count": 5,
   "metadata": {
    "ExecuteTime": {
     "end_time": "2020-07-05T05:49:28.103225Z",
     "start_time": "2020-07-05T05:49:28.100287Z"
    }
   },
   "outputs": [],
   "source": [
    "def fib(i):\n",
    "    if i < 2: return 1\n",
    "    return fib(i-1) + fib(i-2)"
   ]
  },
  {
   "cell_type": "code",
   "execution_count": 3,
   "metadata": {
    "ExecuteTime": {
     "end_time": "2020-07-05T05:47:13.091267Z",
     "start_time": "2020-07-05T05:47:13.087347Z"
    }
   },
   "outputs": [],
   "source": [
    "from functools import wraps\n",
    "\n",
    "def memo(func):\n",
    "    cache = {}                                  # 部分問題の解をキャッシュする\n",
    "    @wraps(func)                                # wrapをfuncのように見せる\n",
    "    def wrap(*args):                            # メモ化するラッパ関数\n",
    "        if args not in cache:                   # すでに計算されているか?\n",
    "            cache[args] = func(*args)           # されていない場合、計算し、その解をキャッシュ\n",
    "        return cache[args]                      # キャッシュされている解を返す\n",
    "    return wrap                                 # ラッパ関数を返す"
   ]
  },
  {
   "cell_type": "code",
   "execution_count": 6,
   "metadata": {
    "ExecuteTime": {
     "end_time": "2020-07-05T05:49:29.986297Z",
     "start_time": "2020-07-05T05:49:29.982691Z"
    }
   },
   "outputs": [
    {
     "name": "stdout",
     "output_type": "stream",
     "text": [
      "573147844013817084101\n"
     ]
    }
   ],
   "source": [
    "fib = memo(fib)\n",
    "print(fib(100))\n",
    "# 573147844013817084101"
   ]
  },
  {
   "cell_type": "code",
   "execution_count": 7,
   "metadata": {
    "ExecuteTime": {
     "end_time": "2020-07-05T05:50:14.150196Z",
     "start_time": "2020-07-05T05:50:14.145480Z"
    }
   },
   "outputs": [
    {
     "data": {
      "text/plain": [
       "573147844013817084101"
      ]
     },
     "execution_count": 7,
     "metadata": {},
     "output_type": "execute_result"
    }
   ],
   "source": [
    "@memo\n",
    "def fib(i):\n",
    "    if i < 2: return 1\n",
    "    return fib(i-1) + fib(i-2)\n",
    "fib(100)\n",
    "# 573147844013817084101"
   ]
  },
  {
   "cell_type": "code",
   "execution_count": 8,
   "metadata": {
    "ExecuteTime": {
     "end_time": "2020-07-05T05:50:46.607702Z",
     "start_time": "2020-07-05T05:50:46.604627Z"
    }
   },
   "outputs": [],
   "source": [
    "@memo\n",
    "def two_pow(i):\n",
    "    if i == 0: return 1\n",
    "    return two_pow(i-1) + two_pow(i-1)"
   ]
  },
  {
   "cell_type": "code",
   "execution_count": 9,
   "metadata": {
    "ExecuteTime": {
     "end_time": "2020-07-05T05:50:53.552051Z",
     "start_time": "2020-07-05T05:50:53.548793Z"
    }
   },
   "outputs": [
    {
     "data": {
      "text/plain": [
       "1024"
      ]
     },
     "execution_count": 9,
     "metadata": {},
     "output_type": "execute_result"
    }
   ],
   "source": [
    "two_pow(10)\n",
    "# 1024"
   ]
  },
  {
   "cell_type": "code",
   "execution_count": 10,
   "metadata": {
    "ExecuteTime": {
     "end_time": "2020-07-05T05:50:55.072773Z",
     "start_time": "2020-07-05T05:50:55.069724Z"
    }
   },
   "outputs": [
    {
     "name": "stdout",
     "output_type": "stream",
     "text": [
      "1267650600228229401496703205376\n"
     ]
    }
   ],
   "source": [
    "print(two_pow(100))\n",
    "# 1267650600228229401496703205376"
   ]
  },
  {
   "cell_type": "code",
   "execution_count": 11,
   "metadata": {
    "ExecuteTime": {
     "end_time": "2020-07-05T05:51:36.018621Z",
     "start_time": "2020-07-05T05:51:36.014461Z"
    }
   },
   "outputs": [
    {
     "data": {
      "text/plain": [
       "1024"
      ]
     },
     "execution_count": 11,
     "metadata": {},
     "output_type": "execute_result"
    }
   ],
   "source": [
    "def two_pow(i):\n",
    "    if i == 0: return 1\n",
    "    return 2*two_pow(i-1)\n",
    "two_pow(10)\n",
    "# 1024"
   ]
  },
  {
   "cell_type": "code",
   "execution_count": 13,
   "metadata": {
    "ExecuteTime": {
     "end_time": "2020-07-05T05:51:39.589751Z",
     "start_time": "2020-07-05T05:51:39.586956Z"
    }
   },
   "outputs": [
    {
     "name": "stdout",
     "output_type": "stream",
     "text": [
      "1267650600228229401496703205376\n"
     ]
    }
   ],
   "source": [
    "print(two_pow(100))\n",
    "# 1267650600228229401496703205376"
   ]
  },
  {
   "cell_type": "code",
   "execution_count": 14,
   "metadata": {
    "ExecuteTime": {
     "end_time": "2020-07-05T05:53:12.913982Z",
     "start_time": "2020-07-05T05:53:12.908553Z"
    }
   },
   "outputs": [
    {
     "data": {
      "text/plain": [
       "6"
      ]
     },
     "execution_count": 14,
     "metadata": {},
     "output_type": "execute_result"
    }
   ],
   "source": [
    "@memo\n",
    "def C(n,k):\n",
    "    if k == 0: return 1\n",
    "    if n == 0: return 0\n",
    "    return C(n-1,k-1) + C(n-1,k)\n",
    "C(4,2)\n",
    "# 6"
   ]
  },
  {
   "cell_type": "code",
   "execution_count": 15,
   "metadata": {
    "ExecuteTime": {
     "end_time": "2020-07-05T05:53:39.100515Z",
     "start_time": "2020-07-05T05:53:39.093833Z"
    }
   },
   "outputs": [
    {
     "name": "stdout",
     "output_type": "stream",
     "text": [
      "100891344545564193334812497256\n"
     ]
    }
   ],
   "source": [
    "print(C(100,50))\n",
    "# 100891344545564193334812497256"
   ]
  },
  {
   "cell_type": "code",
   "execution_count": 16,
   "metadata": {
    "ExecuteTime": {
     "end_time": "2020-07-05T05:53:45.194062Z",
     "start_time": "2020-07-05T05:53:45.189437Z"
    }
   },
   "outputs": [
    {
     "data": {
      "text/plain": [
       "120"
      ]
     },
     "execution_count": 16,
     "metadata": {},
     "output_type": "execute_result"
    }
   ],
   "source": [
    "C(10,7)\n",
    "# 120"
   ]
  },
  {
   "cell_type": "code",
   "execution_count": 18,
   "metadata": {
    "ExecuteTime": {
     "end_time": "2020-07-05T05:53:51.022280Z",
     "start_time": "2020-07-05T05:53:51.018965Z"
    }
   },
   "outputs": [
    {
     "data": {
      "text/plain": [
       "1"
      ]
     },
     "execution_count": 18,
     "metadata": {},
     "output_type": "execute_result"
    }
   ],
   "source": [
    "C(4, 4)\n",
    "# 1"
   ]
  },
  {
   "cell_type": "code",
   "execution_count": 19,
   "metadata": {
    "ExecuteTime": {
     "end_time": "2020-07-05T05:53:52.952534Z",
     "start_time": "2020-07-05T05:53:52.948849Z"
    }
   },
   "outputs": [
    {
     "data": {
      "text/plain": [
       "0"
      ]
     },
     "execution_count": 19,
     "metadata": {},
     "output_type": "execute_result"
    }
   ],
   "source": [
    "C(4, 5)\n",
    "# 0"
   ]
  },
  {
   "cell_type": "code",
   "execution_count": 20,
   "metadata": {
    "ExecuteTime": {
     "end_time": "2020-07-05T05:54:19.525752Z",
     "start_time": "2020-07-05T05:54:19.520161Z"
    }
   },
   "outputs": [
    {
     "data": {
      "text/plain": [
       "120"
      ]
     },
     "execution_count": 20,
     "metadata": {},
     "output_type": "execute_result"
    }
   ],
   "source": [
    "from collections import defaultdict\n",
    "n, k = 10, 7\n",
    "C = defaultdict(int)\n",
    "for row in range(n+1):\n",
    "    C[row,0] = 1\n",
    "    for col in range(1,k+1):\n",
    "        C[row,col] = C[row-1,col-1] + C[row-1,col]\n",
    "\n",
    "C[n,k]\n",
    "# 120"
   ]
  },
  {
   "cell_type": "markdown",
   "metadata": {},
   "source": [
    "## 8-2 有向非巡回グラフにおける最短経路"
   ]
  },
  {
   "cell_type": "markdown",
   "metadata": {},
   "source": [
    "## リスト8-3 メモ化を使った再帰的DAG最短経路"
   ]
  },
  {
   "cell_type": "code",
   "execution_count": 21,
   "metadata": {
    "ExecuteTime": {
     "end_time": "2020-07-05T05:55:20.637845Z",
     "start_time": "2020-07-05T05:55:20.634198Z"
    }
   },
   "outputs": [],
   "source": [
    "def rec_dag_sp(W, s, t):                        # sからtへの最短経路\n",
    "    @memo                                       # dをメモ化\n",
    "    def d(u):                                   # uからtまでの距離\n",
    "        if u == t: return 0                     # 到着している場合\n",
    "        return min(W[u][v]+d(v) for v in W[u])  # 最初のステップの中でベストの選択肢\n",
    "    return d(s)                                 # dを実際の開始ノードsに適用"
   ]
  },
  {
   "cell_type": "code",
   "execution_count": 24,
   "metadata": {
    "ExecuteTime": {
     "end_time": "2020-07-05T05:55:58.809819Z",
     "start_time": "2020-07-05T05:55:58.806193Z"
    }
   },
   "outputs": [],
   "source": [
    "DAG = {\n",
    "    'a': {'b':0},\n",
    "    'b': {'c':4, 'd':6},\n",
    "    'c': {'g':2, 'h':-6},\n",
    "    'd': {'f':3, 'e':5},\n",
    "    'e': {'g':0, 'h':-6},\n",
    "    'f': {'i':-1},\n",
    "    'g': {'h':4},\n",
    "    'h': {'i':7},\n",
    "    'i': {}\n",
    "}"
   ]
  },
  {
   "cell_type": "code",
   "execution_count": 25,
   "metadata": {
    "ExecuteTime": {
     "end_time": "2020-07-05T05:55:59.186627Z",
     "start_time": "2020-07-05T05:55:59.183222Z"
    }
   },
   "outputs": [
    {
     "data": {
      "text/plain": [
       "5"
      ]
     },
     "execution_count": 25,
     "metadata": {},
     "output_type": "execute_result"
    }
   ],
   "source": [
    "rec_dag_sp(DAG, 'a', 'i')\n",
    "# 5"
   ]
  },
  {
   "cell_type": "markdown",
   "metadata": {},
   "source": [
    "## リスト8-4 DAG最短経路"
   ]
  },
  {
   "cell_type": "code",
   "execution_count": 27,
   "metadata": {
    "ExecuteTime": {
     "end_time": "2020-07-05T05:56:17.168964Z",
     "start_time": "2020-07-05T05:56:17.164411Z"
    }
   },
   "outputs": [],
   "source": [
    "def dag_sp(W, s, t):                            # sからtまでの最短経路\n",
    "    d = {u:float('inf') for u in W}             # 距離の推定\n",
    "    d[s] = 0                                    # 開始ノード: 距離は0\n",
    "    for u in topsort(W):                        # トポロジカルソートの順序で\n",
    "        if u == t: break                        # すでに訪問済みの場合\n",
    "        for v in W[u]:                          # 各出力エッジに対して\n",
    "            d[v] = min(d[v], d[u] + W[u][v])    # エッジを緩和\n",
    "    return d[t]    "
   ]
  },
  {
   "cell_type": "code",
   "execution_count": 29,
   "metadata": {
    "ExecuteTime": {
     "end_time": "2020-07-05T05:57:59.692116Z",
     "start_time": "2020-07-05T05:57:59.686963Z"
    }
   },
   "outputs": [],
   "source": [
    "# 第4章より\n",
    "def topsort(G):\n",
    "    count = dict((u, 0) for u in G)             # 各ノードに対する入力次数\n",
    "    for u in G:\n",
    "        for v in G[u]:\n",
    "            count[v] += 1                       # すべての入力エッジを数える\n",
    "    Q = [u for u in G if count[u] == 0]         # 最初の有向なノード\n",
    "    S = []                                      # 結果\n",
    "    while Q:                                    # スタートノードがある限りwhileを継続\n",
    "        u = Q.pop()                             # 1つを抽出\n",
    "        S.append(u)                             # 抽出したものを残りの最初として使う\n",
    "        for v in G[u]:\n",
    "            count[v] -= 1                       # 出力エッジ分\"数え上げ\"を取り消す\n",
    "            if count[v] == 0:                   # 新しい有向なスタートノードがある場合\n",
    "                Q.append(v)                     # 次に扱う候補に追加\n",
    "    return S"
   ]
  },
  {
   "cell_type": "code",
   "execution_count": 30,
   "metadata": {
    "ExecuteTime": {
     "end_time": "2020-07-05T05:58:00.298486Z",
     "start_time": "2020-07-05T05:58:00.294896Z"
    }
   },
   "outputs": [
    {
     "data": {
      "text/plain": [
       "5"
      ]
     },
     "execution_count": 30,
     "metadata": {},
     "output_type": "execute_result"
    }
   ],
   "source": [
    "dag_sp(DAG, 'a', 'i')\n",
    "# 5"
   ]
  },
  {
   "cell_type": "markdown",
   "metadata": {},
   "source": [
    "# 8−3 最長増加部分列"
   ]
  },
  {
   "cell_type": "markdown",
   "metadata": {},
   "source": [
    "## リスト8-5 最長増加部分列問題に対するメモ化と再帰を使った解"
   ]
  },
  {
   "cell_type": "code",
   "execution_count": 31,
   "metadata": {
    "ExecuteTime": {
     "end_time": "2020-07-05T05:58:23.101532Z",
     "start_time": "2020-07-05T05:58:23.097594Z"
    }
   },
   "outputs": [],
   "source": [
    "def rec_lis(seq):                               # 最長増加部分列\n",
    "    @memo\n",
    "    def L(cur):                                 # seq[cur]で終わる最長部分列\n",
    "        res = 1                                 # 長さが少なくとも1\n",
    "        for pre in range(cur):                  # 先行ノードの候補\n",
    "            if seq[pre] <= seq[cur]:            # 有効な（小さい）先行ノードの場合\n",
    "                res = max(res, 1 + L(pre))      # 解を改善するでしょうか？\n",
    "        return res\n",
    "    return max(L(i) for i in range(len(seq)))   # すべての中で一番長いもの"
   ]
  },
  {
   "cell_type": "code",
   "execution_count": 32,
   "metadata": {
    "ExecuteTime": {
     "end_time": "2020-07-05T05:59:13.068865Z",
     "start_time": "2020-07-05T05:59:13.065031Z"
    }
   },
   "outputs": [
    {
     "data": {
      "text/plain": [
       "3"
      ]
     },
     "execution_count": 32,
     "metadata": {},
     "output_type": "execute_result"
    }
   ],
   "source": [
    "seq = [3, 1, 0, 2, 4]\n",
    "rec_lis(seq)\n",
    "# 3"
   ]
  },
  {
   "cell_type": "markdown",
   "metadata": {},
   "source": [
    "## リスト8-6 最長増加部分列問題に対する反復を使った基本的な解"
   ]
  },
  {
   "cell_type": "code",
   "execution_count": 33,
   "metadata": {
    "ExecuteTime": {
     "end_time": "2020-07-05T05:59:41.652815Z",
     "start_time": "2020-07-05T05:59:41.649348Z"
    }
   },
   "outputs": [],
   "source": [
    "def basic_lis(seq):\n",
    "    L = [1] * len(seq)\n",
    "    for cur, val in enumerate(seq):\n",
    "        for pre in range(cur):\n",
    "            if seq[pre] <= val:\n",
    "                L[cur] = max(L[cur], 1 + L[pre])\n",
    "    return max(L)"
   ]
  },
  {
   "cell_type": "code",
   "execution_count": 34,
   "metadata": {
    "ExecuteTime": {
     "end_time": "2020-07-05T05:59:52.625379Z",
     "start_time": "2020-07-05T05:59:52.622434Z"
    }
   },
   "outputs": [
    {
     "data": {
      "text/plain": [
       "3"
      ]
     },
     "execution_count": 34,
     "metadata": {},
     "output_type": "execute_result"
    }
   ],
   "source": [
    "basic_lis(seq)\n",
    "# 3"
   ]
  },
  {
   "cell_type": "markdown",
   "metadata": {},
   "source": [
    "## リスト8-7 最長増加部分列"
   ]
  },
  {
   "cell_type": "code",
   "execution_count": 35,
   "metadata": {
    "ExecuteTime": {
     "end_time": "2020-07-05T06:00:18.045209Z",
     "start_time": "2020-07-05T06:00:18.041459Z"
    }
   },
   "outputs": [],
   "source": [
    "from bisect import bisect\n",
    "\n",
    "def lis(seq):                                   # 最長増加部分列\n",
    "    end = []                                    # すべての長さに対する最後尾の値\n",
    "    for val in seq:                             # すべての値を順に試す\n",
    "        idx = bisect(end, val)                  # 最後尾上に構築できるか\n",
    "        if idx == len(end): end.append(val)     # 最長部分列を拡張\n",
    "        else: end[idx] = val                    # 前の最後尾の値を減らす\n",
    "    return len(end)                             # 最長部分列を発見"
   ]
  },
  {
   "cell_type": "code",
   "execution_count": 36,
   "metadata": {
    "ExecuteTime": {
     "end_time": "2020-07-05T06:00:34.141323Z",
     "start_time": "2020-07-05T06:00:34.137406Z"
    }
   },
   "outputs": [
    {
     "data": {
      "text/plain": [
       "3"
      ]
     },
     "execution_count": 36,
     "metadata": {},
     "output_type": "execute_result"
    }
   ],
   "source": [
    "lis(seq)\n",
    "# 3"
   ]
  },
  {
   "cell_type": "code",
   "execution_count": 38,
   "metadata": {
    "ExecuteTime": {
     "end_time": "2020-07-05T06:01:30.033961Z",
     "start_time": "2020-07-05T06:01:30.011128Z"
    }
   },
   "outputs": [],
   "source": [
    "from random import *\n",
    "seqs = [[randrange(100) for i in range(5+i)] for i in range(10)]\n",
    "seqs.append([1, 1, 1, 1, 2, 2, 2, 2, 0, 0, 0, 4, 3, 3, 3, 4, 4, 4])\n",
    "for seq in seqs:\n",
    "    res = naive_lis(seq)\n",
    "    for f in [basic_lis, rec_lis, lis]:\n",
    "        res2 = f(seq)\n",
    "        assert res2 == len(res), (res, seq, res2, f)"
   ]
  },
  {
   "cell_type": "markdown",
   "metadata": {},
   "source": [
    "# 8-4 列の比較"
   ]
  },
  {
   "cell_type": "markdown",
   "metadata": {},
   "source": [
    "## リスト8-8 メモ化を使ったLCS問題に対する再帰的な解"
   ]
  },
  {
   "cell_type": "code",
   "execution_count": 39,
   "metadata": {
    "ExecuteTime": {
     "end_time": "2020-07-05T06:01:50.645031Z",
     "start_time": "2020-07-05T06:01:50.640643Z"
    }
   },
   "outputs": [],
   "source": [
    "def rec_lcs(a,b):                               # 最長共通部分列\n",
    "    @memo                                       # Lをメモ化\n",
    "    def L(i,j):                                 # プレフィックスはa[:i] と b[:j]\n",
    "        if min(i,j) < 0: return 0               # どちらかのプレフィックスが空の場合\n",
    "        if a[i] == b[j]: return 1 + L(i-1,j-1)  # 等しい場合、対角線上に移動\n",
    "        return max(L(i-1,j), L(i,j-1))          # a[i]かb[j]を取り除く\n",
    "    return L(len(a)-1,len(b)-1)                 # 全体の列に対してLを実行"
   ]
  },
  {
   "cell_type": "code",
   "execution_count": 41,
   "metadata": {
    "ExecuteTime": {
     "end_time": "2020-07-05T06:02:14.754925Z",
     "start_time": "2020-07-05T06:02:14.751086Z"
    }
   },
   "outputs": [
    {
     "data": {
      "text/plain": [
       "3"
      ]
     },
     "execution_count": 41,
     "metadata": {},
     "output_type": "execute_result"
    }
   ],
   "source": [
    "rec_lcs(\"spock\", \"asoka\")\n",
    "# 3"
   ]
  },
  {
   "cell_type": "code",
   "execution_count": 42,
   "metadata": {
    "ExecuteTime": {
     "end_time": "2020-07-05T06:02:18.763368Z",
     "start_time": "2020-07-05T06:02:18.759705Z"
    }
   },
   "outputs": [
    {
     "data": {
      "text/plain": [
       "4"
      ]
     },
     "execution_count": 42,
     "metadata": {},
     "output_type": "execute_result"
    }
   ],
   "source": [
    "rec_lcs(\"AGCGA\", \"CAGATAGAG\")\n",
    "# 4"
   ]
  },
  {
   "cell_type": "code",
   "execution_count": 43,
   "metadata": {
    "ExecuteTime": {
     "end_time": "2020-07-05T06:02:20.807829Z",
     "start_time": "2020-07-05T06:02:20.804251Z"
    }
   },
   "outputs": [
    {
     "data": {
      "text/plain": [
       "5"
      ]
     },
     "execution_count": 43,
     "metadata": {},
     "output_type": "execute_result"
    }
   ],
   "source": [
    "rec_lcs(\"Starbuck\", \"Starwalker\")\n",
    "# 5"
   ]
  },
  {
   "cell_type": "markdown",
   "metadata": {},
   "source": [
    "## リスト8-9 最長共通部分列（LCS）問題に対する反復を使った解"
   ]
  },
  {
   "cell_type": "code",
   "execution_count": 44,
   "metadata": {
    "ExecuteTime": {
     "end_time": "2020-07-05T06:02:42.718492Z",
     "start_time": "2020-07-05T06:02:42.713010Z"
    }
   },
   "outputs": [],
   "source": [
    "def lcs(a,b):\n",
    "    n, m = len(a), len(b)\n",
    "    pre, cur = [0]*(n+1), [0]*(n+1)             # 前と現在の行\n",
    "    for j in range(1,m+1):                      # b上を走査\n",
    "        pre, cur = cur, pre                     # 前の行を保存, 現在の値を上書き\n",
    "        for i in range(1,n+1):                  # a上を走査\n",
    "            if a[i-1] == b[j-1]:                # プレフィックスの最後の要素が等しい場合\n",
    "                cur[i] = pre[i-1] + 1           # L(i,j) = L(i-1,j-1) + 1\n",
    "            else:                               # そうでない場合、\n",
    "                cur[i] = max(pre[i], cur[i-1])  # max(L(i,j-1),L(i-1,j))\n",
    "    return cur[n]                               # L(n,m)と等しい"
   ]
  },
  {
   "cell_type": "code",
   "execution_count": 45,
   "metadata": {
    "ExecuteTime": {
     "end_time": "2020-07-05T06:02:51.811149Z",
     "start_time": "2020-07-05T06:02:51.807748Z"
    }
   },
   "outputs": [
    {
     "data": {
      "text/plain": [
       "3"
      ]
     },
     "execution_count": 45,
     "metadata": {},
     "output_type": "execute_result"
    }
   ],
   "source": [
    "lcs(\"spock\", \"asoka\")\n",
    "# 3"
   ]
  },
  {
   "cell_type": "code",
   "execution_count": 46,
   "metadata": {
    "ExecuteTime": {
     "end_time": "2020-07-05T06:02:55.427804Z",
     "start_time": "2020-07-05T06:02:55.424420Z"
    }
   },
   "outputs": [
    {
     "data": {
      "text/plain": [
       "4"
      ]
     },
     "execution_count": 46,
     "metadata": {},
     "output_type": "execute_result"
    }
   ],
   "source": [
    "lcs(\"AGCGA\", \"CAGATAGAG\")\n",
    "# 4"
   ]
  },
  {
   "cell_type": "code",
   "execution_count": 47,
   "metadata": {
    "ExecuteTime": {
     "end_time": "2020-07-05T06:02:57.207945Z",
     "start_time": "2020-07-05T06:02:57.203919Z"
    }
   },
   "outputs": [
    {
     "data": {
      "text/plain": [
       "5"
      ]
     },
     "execution_count": 47,
     "metadata": {},
     "output_type": "execute_result"
    }
   ],
   "source": [
    "lcs(\"Starbuck\", \"Starwalker\")\n",
    "# 5"
   ]
  },
  {
   "cell_type": "markdown",
   "metadata": {
    "ExecuteTime": {
     "end_time": "2020-07-05T06:03:07.414029Z",
     "start_time": "2020-07-05T06:03:07.411517Z"
    }
   },
   "source": [
    "# 8-5 ナップサック問題の反撃"
   ]
  },
  {
   "cell_type": "markdown",
   "metadata": {},
   "source": [
    "## リスト8-10 制限なし整数ナップサック問題に対するメモ化を使った再帰的な解"
   ]
  },
  {
   "cell_type": "code",
   "execution_count": 49,
   "metadata": {
    "ExecuteTime": {
     "end_time": "2020-07-05T06:03:15.696785Z",
     "start_time": "2020-07-05T06:03:15.692806Z"
    }
   },
   "outputs": [],
   "source": [
    "def rec_unbounded_knapsack(w, v, c):            # 重みw、価値v、容量c\n",
    "    @memo                                       # mはメモ化されている\n",
    "    def m(r):                                   # 残りの容量に対して最大の値を返す\n",
    "        if r == 0: return 0                     # 容量がない場合、価値は0\n",
    "        val = m(r-1)                            # 最後の単位容量を無視\n",
    "        for i, wi in enumerate(w):              # すべてのオブジェクトを試す\n",
    "            if wi > r: continue                 # 重すぎる場合は無視\n",
    "            val = max(val, v[i] + m(r-wi))      # 価値を足し、重みを引く\n",
    "        return val                              # 最後のオブジェクトの中で最大値を返す\n",
    "    return m(c)                                 # 全容量が可能な場合で計算"
   ]
  },
  {
   "cell_type": "markdown",
   "metadata": {},
   "source": [
    "## リスト8-11 制限なし整数ナップサック問題に対する反復を使った解"
   ]
  },
  {
   "cell_type": "code",
   "execution_count": 50,
   "metadata": {
    "ExecuteTime": {
     "end_time": "2020-07-05T06:03:36.491873Z",
     "start_time": "2020-07-05T06:03:36.487399Z"
    }
   },
   "outputs": [],
   "source": [
    "def unbounded_knapsack(w, v, c):\n",
    "    m = [0]\n",
    "    for r in range(1,c+1):\n",
    "        val = m[r-1]\n",
    "        for i, wi in enumerate(w):\n",
    "            if wi > r: continue\n",
    "            val = max(val, v[i] + m[r-wi])\n",
    "        m.append(val)\n",
    "    return m[c]"
   ]
  },
  {
   "cell_type": "code",
   "execution_count": 51,
   "metadata": {
    "ExecuteTime": {
     "end_time": "2020-07-05T06:04:13.809802Z",
     "start_time": "2020-07-05T06:04:13.806039Z"
    }
   },
   "outputs": [
    {
     "data": {
      "text/plain": [
       "[12, 12]"
      ]
     },
     "execution_count": 51,
     "metadata": {},
     "output_type": "execute_result"
    }
   ],
   "source": [
    "funcs = [rec_unbounded_knapsack, unbounded_knapsack]\n",
    "w, v = [1, 2], [2, 5]\n",
    "[f(w, v, 5) for f in funcs]\n",
    "# [12, 12]"
   ]
  },
  {
   "cell_type": "code",
   "execution_count": 52,
   "metadata": {
    "ExecuteTime": {
     "end_time": "2020-07-05T06:04:21.351766Z",
     "start_time": "2020-07-05T06:04:21.347722Z"
    }
   },
   "outputs": [
    {
     "data": {
      "text/plain": [
       "[13, 13]"
      ]
     },
     "execution_count": 52,
     "metadata": {},
     "output_type": "execute_result"
    }
   ],
   "source": [
    "w, v = [3, 2, 4], [5, 4, 2]\n",
    "[f(w, v, 7) for f in funcs]\n",
    "# [13, 13]"
   ]
  },
  {
   "cell_type": "markdown",
   "metadata": {},
   "source": [
    "## リスト8-12 0−1 ナップサック問題に対するメモ化を使った再帰的な解"
   ]
  },
  {
   "cell_type": "code",
   "execution_count": 53,
   "metadata": {
    "ExecuteTime": {
     "end_time": "2020-07-05T06:04:41.134361Z",
     "start_time": "2020-07-05T06:04:41.130109Z"
    }
   },
   "outputs": [],
   "source": [
    "def rec_knapsack(w, v, c):                      # 重みw, 価値v, 容量c\n",
    "    @memo                                       # メモ化されているm\n",
    "    def m(k, r):                                # k個のオブジェクトと容量rに対する最大値v\n",
    "        if k == 0 or r == 0: return 0           # オブジェクト0, 容量0\n",
    "        i = k-1                                 # 検討中のオブジェクト\n",
    "        drop = m(k-1, r)                        # オブジェクトを除いたとしたら\n",
    "        if w[i] > r: return drop                # 重すぎる場合、除く\n",
    "        return max(drop, v[i] + m(k-1, r-w[i])) # 入れた場合と入れなかった場合で大きい方\n",
    "    return m(len(w), c)                         # すべてのオブジェクト、すべての容量に対して"
   ]
  },
  {
   "cell_type": "markdown",
   "metadata": {},
   "source": [
    "## リスト8-13 0−1 ナップサック問題に対する反復を使った解"
   ]
  },
  {
   "cell_type": "markdown",
   "metadata": {},
   "source": [
    "Note: 原文のgithubには`knapsack_wrap`, `knapsack_old`, `brutish_knapsack`なども実装されている。"
   ]
  },
  {
   "cell_type": "code",
   "execution_count": 54,
   "metadata": {
    "ExecuteTime": {
     "end_time": "2020-07-05T06:04:54.991624Z",
     "start_time": "2020-07-05T06:04:54.985646Z"
    }
   },
   "outputs": [],
   "source": [
    "def knapsack(w, v, c):                          # 解を表す行列を返す\n",
    "    n = len(w)                                  # 使用可能なアイテムの数\n",
    "    m = [[0]*(c+1) for i in range(n+1)]         # 最大値を格納する空の行列\n",
    "    P = [[False]*(c+1) for i in range(n+1)]     # 取捨選択を格納する行列\n",
    "    for k in range(1,n+1):                      # 最初のkオブジェクトを使える\n",
    "        i = k-1                                 # 検討中のオブジェクト\n",
    "        for r in range(1,c+1):                  # すべて正の容量\n",
    "            m[k][r] = drop = m[k-1][r]          # デフォルトは除去する\n",
    "            if w[i] > r: continue               # 重すぎる場合、無視\n",
    "            keep = v[i] + m[k-1][r-w[i]]        # 保持する値\n",
    "            m[k][r] = max(drop, keep)           # 保持と除去の結果が良い方\n",
    "            P[k][r] = keep > drop               # 保持をしたかどうか\n",
    "    return m, P                                 # 結果すべてを返す"
   ]
  },
  {
   "cell_type": "code",
   "execution_count": 60,
   "metadata": {
    "ExecuteTime": {
     "end_time": "2020-07-05T06:10:21.091308Z",
     "start_time": "2020-07-05T06:10:21.084486Z"
    }
   },
   "outputs": [
    {
     "data": {
      "text/plain": [
       "[0, 1]"
      ]
     },
     "execution_count": 60,
     "metadata": {},
     "output_type": "execute_result"
    }
   ],
   "source": [
    "w, v, c = [2, 3, 4, 5], [3, 4, 5, 6], 5\n",
    "m, P = knapsack(w, v, c)\n",
    "k, r, items = len(w), c, set()\n",
    "while k > 0 and r > 0:\n",
    "    i = k-1\n",
    "    if P[k][r]:\n",
    "        items.add(i)\n",
    "        r -= w[i]\n",
    "    k -= 1\n",
    "\n",
    "sorted(items)\n",
    "# [0, 1]"
   ]
  },
  {
   "cell_type": "markdown",
   "metadata": {},
   "source": [
    "# 8-6 二値列分割"
   ]
  },
  {
   "cell_type": "markdown",
   "metadata": {},
   "source": [
    "## リスト8-14 想定最適探索コストに対するメモ化を使った再帰関数"
   ]
  },
  {
   "cell_type": "code",
   "execution_count": 55,
   "metadata": {
    "ExecuteTime": {
     "end_time": "2020-07-05T06:06:55.545636Z",
     "start_time": "2020-07-05T06:06:55.541153Z"
    }
   },
   "outputs": [],
   "source": [
    "def rec_opt_tree(p):\n",
    "    @memo\n",
    "    def s(i,j):\n",
    "        if i == j: return 0\n",
    "        return s(i,j-1) + p[j-1]\n",
    "    @memo\n",
    "    def e(i,j):\n",
    "        if i == j: return 0\n",
    "        sub = min(e(i,r) + e(r+1,j) for r in range(i,j))\n",
    "        return sub + s(i,j)\n",
    "    return e(0,len(p))"
   ]
  },
  {
   "cell_type": "code",
   "execution_count": 57,
   "metadata": {
    "ExecuteTime": {
     "end_time": "2020-07-05T06:07:48.737381Z",
     "start_time": "2020-07-05T06:07:48.733451Z"
    }
   },
   "outputs": [
    {
     "data": {
      "text/plain": [
       "2.1"
      ]
     },
     "execution_count": 57,
     "metadata": {},
     "output_type": "execute_result"
    }
   ],
   "source": [
    "w = [0.25, 0.2, 0.05, 0.2, 0.3]\n",
    "rec_opt_tree(w)\n",
    "# 2.1"
   ]
  },
  {
   "cell_type": "code",
   "execution_count": 56,
   "metadata": {
    "ExecuteTime": {
     "end_time": "2020-07-05T06:07:06.208397Z",
     "start_time": "2020-07-05T06:07:06.202896Z"
    }
   },
   "outputs": [],
   "source": [
    "from collections import defaultdict\n",
    "\n",
    "def opt_tree(p):\n",
    "    n = len(p)\n",
    "    s, e = defaultdict(int), defaultdict(int)\n",
    "    for k in range(1,n+1):\n",
    "        for i in range(n-k+1):\n",
    "            j = i + k\n",
    "            s[i,j] = s[i,j-1] + p[j-1]\n",
    "            e[i,j] = min(e[i,r] + e[r+1,j] for r in range(i,j))\n",
    "            e[i,j] += s[i,j]\n",
    "    return e[0,n]"
   ]
  },
  {
   "cell_type": "code",
   "execution_count": 58,
   "metadata": {
    "ExecuteTime": {
     "end_time": "2020-07-05T06:07:57.899782Z",
     "start_time": "2020-07-05T06:07:57.896392Z"
    }
   },
   "outputs": [
    {
     "data": {
      "text/plain": [
       "2.1"
      ]
     },
     "execution_count": 58,
     "metadata": {},
     "output_type": "execute_result"
    }
   ],
   "source": [
    "opt_tree(w)\n",
    "# 2.1"
   ]
  },
  {
   "cell_type": "code",
   "execution_count": 59,
   "metadata": {
    "ExecuteTime": {
     "end_time": "2020-07-05T06:08:05.551761Z",
     "start_time": "2020-07-05T06:08:05.545518Z"
    }
   },
   "outputs": [],
   "source": [
    "from random import *\n",
    "ws = [[random() for i in range(randrange(4,9))] for j in range(20)]\n",
    "for w in ws:\n",
    "    assert rec_opt_tree(w) == opt_tree(w)"
   ]
  },
  {
   "cell_type": "code",
   "execution_count": null,
   "metadata": {},
   "outputs": [],
   "source": []
  }
 ],
 "metadata": {
  "hide_input": false,
  "kernelspec": {
   "display_name": "Python (py36)",
   "language": "python",
   "name": "py36"
  },
  "language_info": {
   "codemirror_mode": {
    "name": "ipython",
    "version": 3
   },
   "file_extension": ".py",
   "mimetype": "text/x-python",
   "name": "python",
   "nbconvert_exporter": "python",
   "pygments_lexer": "ipython3",
   "version": "3.6.7"
  },
  "toc": {
   "base_numbering": 1,
   "nav_menu": {},
   "number_sections": false,
   "sideBar": true,
   "skip_h1_title": false,
   "title_cell": "Table of Contents",
   "title_sidebar": "Contents",
   "toc_cell": false,
   "toc_position": {},
   "toc_section_display": true,
   "toc_window_display": true
  },
  "varInspector": {
   "cols": {
    "lenName": 16,
    "lenType": 16,
    "lenVar": 40
   },
   "kernels_config": {
    "python": {
     "delete_cmd_postfix": "",
     "delete_cmd_prefix": "del ",
     "library": "var_list.py",
     "varRefreshCmd": "print(var_dic_list())"
    },
    "r": {
     "delete_cmd_postfix": ") ",
     "delete_cmd_prefix": "rm(",
     "library": "var_list.r",
     "varRefreshCmd": "cat(var_dic_list()) "
    }
   },
   "types_to_exclude": [
    "module",
    "function",
    "builtin_function_or_method",
    "instance",
    "_Feature"
   ],
   "window_display": false
  }
 },
 "nbformat": 4,
 "nbformat_minor": 2
}
